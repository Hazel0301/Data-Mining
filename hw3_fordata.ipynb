{
 "cells": [
  {
   "cell_type": "markdown",
   "id": "681217a5",
   "metadata": {},
   "source": [
    "# Read Data"
   ]
  },
  {
   "cell_type": "code",
   "execution_count": 26,
   "id": "fb54dc3c",
   "metadata": {},
   "outputs": [
    {
     "name": "stdout",
     "output_type": "stream",
     "text": [
      "Number of instances = 3755\n",
      "Number of attributes = 10\n"
     ]
    },
    {
     "data": {
      "text/html": [
       "<div>\n",
       "<style scoped>\n",
       "    .dataframe tbody tr th:only-of-type {\n",
       "        vertical-align: middle;\n",
       "    }\n",
       "\n",
       "    .dataframe tbody tr th {\n",
       "        vertical-align: top;\n",
       "    }\n",
       "\n",
       "    .dataframe thead th {\n",
       "        text-align: right;\n",
       "    }\n",
       "</style>\n",
       "<table border=\"1\" class=\"dataframe\">\n",
       "  <thead>\n",
       "    <tr style=\"text-align: right;\">\n",
       "      <th></th>\n",
       "      <th>experience_level</th>\n",
       "      <th>employment_type</th>\n",
       "      <th>job_title</th>\n",
       "      <th>salary</th>\n",
       "      <th>salary_currency</th>\n",
       "      <th>salary_in_usd</th>\n",
       "      <th>employee_residence</th>\n",
       "      <th>remote_ratio</th>\n",
       "      <th>company_location</th>\n",
       "      <th>company_size</th>\n",
       "    </tr>\n",
       "  </thead>\n",
       "  <tbody>\n",
       "    <tr>\n",
       "      <th>0</th>\n",
       "      <td>SE</td>\n",
       "      <td>FT</td>\n",
       "      <td>Principal Data Scientist</td>\n",
       "      <td>80000</td>\n",
       "      <td>EUR</td>\n",
       "      <td>85847</td>\n",
       "      <td>ES</td>\n",
       "      <td>100</td>\n",
       "      <td>ES</td>\n",
       "      <td>L</td>\n",
       "    </tr>\n",
       "    <tr>\n",
       "      <th>1</th>\n",
       "      <td>MI</td>\n",
       "      <td>CT</td>\n",
       "      <td>ML Engineer</td>\n",
       "      <td>30000</td>\n",
       "      <td>USD</td>\n",
       "      <td>30000</td>\n",
       "      <td>US</td>\n",
       "      <td>100</td>\n",
       "      <td>US</td>\n",
       "      <td>S</td>\n",
       "    </tr>\n",
       "    <tr>\n",
       "      <th>2</th>\n",
       "      <td>MI</td>\n",
       "      <td>CT</td>\n",
       "      <td>ML Engineer</td>\n",
       "      <td>25500</td>\n",
       "      <td>USD</td>\n",
       "      <td>25500</td>\n",
       "      <td>US</td>\n",
       "      <td>100</td>\n",
       "      <td>US</td>\n",
       "      <td>S</td>\n",
       "    </tr>\n",
       "    <tr>\n",
       "      <th>3</th>\n",
       "      <td>SE</td>\n",
       "      <td>FT</td>\n",
       "      <td>Data Scientist</td>\n",
       "      <td>175000</td>\n",
       "      <td>USD</td>\n",
       "      <td>175000</td>\n",
       "      <td>CA</td>\n",
       "      <td>100</td>\n",
       "      <td>CA</td>\n",
       "      <td>M</td>\n",
       "    </tr>\n",
       "    <tr>\n",
       "      <th>4</th>\n",
       "      <td>SE</td>\n",
       "      <td>FT</td>\n",
       "      <td>Data Scientist</td>\n",
       "      <td>120000</td>\n",
       "      <td>USD</td>\n",
       "      <td>120000</td>\n",
       "      <td>CA</td>\n",
       "      <td>100</td>\n",
       "      <td>CA</td>\n",
       "      <td>M</td>\n",
       "    </tr>\n",
       "  </tbody>\n",
       "</table>\n",
       "</div>"
      ],
      "text/plain": [
       "  experience_level employment_type                 job_title  salary  \\\n",
       "0               SE              FT  Principal Data Scientist   80000   \n",
       "1               MI              CT               ML Engineer   30000   \n",
       "2               MI              CT               ML Engineer   25500   \n",
       "3               SE              FT            Data Scientist  175000   \n",
       "4               SE              FT            Data Scientist  120000   \n",
       "\n",
       "  salary_currency  salary_in_usd employee_residence  remote_ratio  \\\n",
       "0             EUR          85847                 ES           100   \n",
       "1             USD          30000                 US           100   \n",
       "2             USD          25500                 US           100   \n",
       "3             USD         175000                 CA           100   \n",
       "4             USD         120000                 CA           100   \n",
       "\n",
       "  company_location company_size  \n",
       "0               ES            L  \n",
       "1               US            S  \n",
       "2               US            S  \n",
       "3               CA            M  \n",
       "4               CA            M  "
      ]
     },
     "execution_count": 26,
     "metadata": {},
     "output_type": "execute_result"
    }
   ],
   "source": [
    "import pandas as pd\n",
    "import numpy as np\n",
    "\n",
    "data = pd.read_csv('ds_salaries.csv', header=None)\n",
    "data.columns = ['work_year', 'experience_level', 'employment_type', 'job_title',\n",
    "                'salary', 'salary_currency', 'salary_in_usd',\n",
    "                'employee_residence', 'remote_ratio', 'company_location','company_size']\n",
    "\n",
    "data = data.drop(['work_year'],axis=1)\n",
    "print('Number of instances = %d' % (data.shape[0]))\n",
    "print('Number of attributes = %d' % (data.shape[1]))\n",
    "data.head()"
   ]
  },
  {
   "cell_type": "markdown",
   "id": "818a8b02",
   "metadata": {},
   "source": [
    "# Sampling"
   ]
  },
  {
   "cell_type": "code",
   "execution_count": 27,
   "id": "5762ab82",
   "metadata": {},
   "outputs": [
    {
     "name": "stdout",
     "output_type": "stream",
     "text": [
      "Number of instances = 3755\n",
      "Number of attributes = 10\n",
      "Number of missing values:\n",
      "\texperience_level: 0\n",
      "\temployment_type: 0\n",
      "\tjob_title: 0\n",
      "\tsalary: 0\n",
      "\tsalary_currency: 0\n",
      "\tsalary_in_usd: 0\n",
      "\temployee_residence: 0\n",
      "\tremote_ratio: 0\n",
      "\tcompany_location: 0\n",
      "\tcompany_size: 0\n"
     ]
    }
   ],
   "source": [
    "from sklearn.model_selection import train_test_split\n",
    "import random\n",
    "from sklearn.impute import SimpleImputer\n",
    "\n",
    "data = data.replace('?',np.NaN)\n",
    "imputer = SimpleImputer(strategy='mean')\n",
    "\n",
    "print('Number of instances = %d' % (data.shape[0]))\n",
    "print('Number of attributes = %d' % (data.shape[1]))\n",
    "\n",
    "print('Number of missing values:')\n",
    "for col in data.columns:\n",
    "    print('\\t%s: %d' % (col,data[col].isna().sum()))\n",
    "    \n",
    "features = ['salary', 'salary_in_usd', 'remote_ratio'] #特徵列\n",
    "data[features] = imputer.fit_transform(data[features]) #轉換數值\n",
    "\n",
    "X = data[features]\n",
    "y = data[\"salary_in_usd\"]\n",
    "\n",
    "X_train, X_test, y_train, y_test = train_test_split(X, y, test_size=0.3, random_state=42) #test_size測試資料比例"
   ]
  },
  {
   "cell_type": "code",
   "execution_count": 28,
   "id": "fa7030fa",
   "metadata": {},
   "outputs": [
    {
     "data": {
      "text/html": [
       "<div>\n",
       "<style scoped>\n",
       "    .dataframe tbody tr th:only-of-type {\n",
       "        vertical-align: middle;\n",
       "    }\n",
       "\n",
       "    .dataframe tbody tr th {\n",
       "        vertical-align: top;\n",
       "    }\n",
       "\n",
       "    .dataframe thead th {\n",
       "        text-align: right;\n",
       "    }\n",
       "</style>\n",
       "<table border=\"1\" class=\"dataframe\">\n",
       "  <thead>\n",
       "    <tr style=\"text-align: right;\">\n",
       "      <th></th>\n",
       "      <th>salary</th>\n",
       "      <th>salary_in_usd</th>\n",
       "      <th>remote_ratio</th>\n",
       "    </tr>\n",
       "  </thead>\n",
       "  <tbody>\n",
       "    <tr>\n",
       "      <th>1583</th>\n",
       "      <td>145000.0</td>\n",
       "      <td>145000.0</td>\n",
       "      <td>100.0</td>\n",
       "    </tr>\n",
       "    <tr>\n",
       "      <th>3121</th>\n",
       "      <td>160000.0</td>\n",
       "      <td>160000.0</td>\n",
       "      <td>0.0</td>\n",
       "    </tr>\n",
       "    <tr>\n",
       "      <th>77</th>\n",
       "      <td>168100.0</td>\n",
       "      <td>168100.0</td>\n",
       "      <td>100.0</td>\n",
       "    </tr>\n",
       "    <tr>\n",
       "      <th>3529</th>\n",
       "      <td>150000.0</td>\n",
       "      <td>150000.0</td>\n",
       "      <td>100.0</td>\n",
       "    </tr>\n",
       "    <tr>\n",
       "      <th>647</th>\n",
       "      <td>180180.0</td>\n",
       "      <td>180180.0</td>\n",
       "      <td>0.0</td>\n",
       "    </tr>\n",
       "  </tbody>\n",
       "</table>\n",
       "</div>"
      ],
      "text/plain": [
       "        salary  salary_in_usd  remote_ratio\n",
       "1583  145000.0       145000.0         100.0\n",
       "3121  160000.0       160000.0           0.0\n",
       "77    168100.0       168100.0         100.0\n",
       "3529  150000.0       150000.0         100.0\n",
       "647   180180.0       180180.0           0.0"
      ]
     },
     "execution_count": 28,
     "metadata": {},
     "output_type": "execute_result"
    }
   ],
   "source": [
    "# 使用 sample_without_replacement()\n",
    "sampled_data = random.sample(list(X_train.index), k=100)  #100個樣本\n",
    "\n",
    "# 取樣\n",
    "sampled_X_train = X_train.loc[sampled_data]\n",
    "sampled_y_train = y_train.loc[sampled_data]\n",
    "\n",
    "sampled_X_train.head()"
   ]
  },
  {
   "cell_type": "markdown",
   "id": "a513d0c0",
   "metadata": {},
   "source": [
    "# Binarize"
   ]
  },
  {
   "cell_type": "code",
   "execution_count": 29,
   "id": "4e04744e",
   "metadata": {},
   "outputs": [
    {
     "name": "stdout",
     "output_type": "stream",
     "text": [
      "[[1.]\n",
      " [1.]\n",
      " [1.]\n",
      " ...\n",
      " [1.]\n",
      " [1.]\n",
      " [0.]]\n"
     ]
    }
   ],
   "source": [
    "from sklearn.preprocessing import Binarizer\n",
    "\n",
    "binarizer = Binarizer(threshold=50) #二元化分界\n",
    "binary_data = binarizer.transform(data['remote_ratio'].values.reshape(-1, 1))\n",
    "data['remote_ratio_binary'] = binary_data\n",
    "\n",
    "data['remote_ratio'] = data['remote_ratio_binary']\n",
    "data.drop('remote_ratio_binary', axis=1, inplace=True)\n",
    "\n",
    "print(binary_data)"
   ]
  },
  {
   "cell_type": "code",
   "execution_count": 30,
   "id": "aa7683f2",
   "metadata": {},
   "outputs": [
    {
     "name": "stdout",
     "output_type": "stream",
     "text": [
      "  (0, 0)\t1.0\n",
      "  (1, 2)\t1.0\n",
      "  (2, 2)\t1.0\n",
      "  (3, 1)\t1.0\n",
      "  (4, 1)\t1.0\n",
      "  (5, 0)\t1.0\n",
      "  (6, 0)\t1.0\n",
      "  (7, 1)\t1.0\n",
      "  (8, 1)\t1.0\n",
      "  (9, 1)\t1.0\n",
      "  (10, 1)\t1.0\n",
      "  (11, 1)\t1.0\n",
      "  (12, 1)\t1.0\n",
      "  (13, 0)\t1.0\n",
      "  (14, 0)\t1.0\n",
      "  (15, 1)\t1.0\n",
      "  (16, 1)\t1.0\n",
      "  (17, 1)\t1.0\n",
      "  (18, 1)\t1.0\n",
      "  (19, 1)\t1.0\n",
      "  (20, 1)\t1.0\n",
      "  (21, 1)\t1.0\n",
      "  (22, 1)\t1.0\n",
      "  (23, 1)\t1.0\n",
      "  (24, 1)\t1.0\n",
      "  :\t:\n",
      "  (3730, 2)\t1.0\n",
      "  (3731, 2)\t1.0\n",
      "  (3732, 0)\t1.0\n",
      "  (3733, 0)\t1.0\n",
      "  (3734, 0)\t1.0\n",
      "  (3735, 2)\t1.0\n",
      "  (3736, 0)\t1.0\n",
      "  (3737, 0)\t1.0\n",
      "  (3738, 0)\t1.0\n",
      "  (3739, 0)\t1.0\n",
      "  (3740, 1)\t1.0\n",
      "  (3741, 1)\t1.0\n",
      "  (3742, 1)\t1.0\n",
      "  (3743, 1)\t1.0\n",
      "  (3744, 2)\t1.0\n",
      "  (3745, 2)\t1.0\n",
      "  (3746, 1)\t1.0\n",
      "  (3747, 0)\t1.0\n",
      "  (3748, 0)\t1.0\n",
      "  (3749, 0)\t1.0\n",
      "  (3750, 0)\t1.0\n",
      "  (3751, 0)\t1.0\n",
      "  (3752, 2)\t1.0\n",
      "  (3753, 0)\t1.0\n",
      "  (3754, 0)\t1.0\n"
     ]
    }
   ],
   "source": [
    "from sklearn.preprocessing import OneHotEncoder\n",
    "\n",
    "encoder = OneHotEncoder()\n",
    "\n",
    "categorical_columns = ['company_size']\n",
    "encoded_data = encoder.fit_transform(data[categorical_columns])\n",
    "encoded_columns = encoder.get_feature_names_out(categorical_columns)\n",
    "\n",
    "print(encoded_data)"
   ]
  },
  {
   "cell_type": "markdown",
   "id": "c5f6f489",
   "metadata": {},
   "source": [
    "# Discretization"
   ]
  },
  {
   "cell_type": "code",
   "execution_count": 31,
   "id": "3ea4d9ca",
   "metadata": {},
   "outputs": [
    {
     "name": "stdout",
     "output_type": "stream",
     "text": [
      "  (0, 1)\t1.0\n",
      "  (1, 0)\t1.0\n",
      "  (2, 0)\t1.0\n",
      "  (3, 3)\t1.0\n",
      "  (4, 2)\t1.0\n",
      "  (5, 4)\t1.0\n",
      "  (6, 2)\t1.0\n",
      "  (7, 4)\t1.0\n",
      "  (8, 3)\t1.0\n",
      "  (9, 3)\t1.0\n",
      "  (10, 1)\t1.0\n",
      "  (11, 2)\t1.0\n",
      "  (12, 2)\t1.0\n",
      "  (13, 4)\t1.0\n",
      "  (14, 2)\t1.0\n",
      "  (15, 3)\t1.0\n",
      "  (16, 1)\t1.0\n",
      "  (17, 3)\t1.0\n",
      "  (18, 3)\t1.0\n",
      "  (19, 3)\t1.0\n",
      "  (20, 2)\t1.0\n",
      "  (21, 6)\t1.0\n",
      "  (22, 3)\t1.0\n",
      "  (23, 5)\t1.0\n",
      "  (24, 3)\t1.0\n",
      "  :\t:\n",
      "  (3730, 1)\t1.0\n",
      "  (3731, 1)\t1.0\n",
      "  (3732, 2)\t1.0\n",
      "  (3733, 5)\t1.0\n",
      "  (3734, 0)\t1.0\n",
      "  (3735, 0)\t1.0\n",
      "  (3736, 1)\t1.0\n",
      "  (3737, 1)\t1.0\n",
      "  (3738, 1)\t1.0\n",
      "  (3739, 0)\t1.0\n",
      "  (3740, 4)\t1.0\n",
      "  (3741, 2)\t1.0\n",
      "  (3742, 2)\t1.0\n",
      "  (3743, 2)\t1.0\n",
      "  (3744, 0)\t1.0\n",
      "  (3745, 3)\t1.0\n",
      "  (3746, 2)\t1.0\n",
      "  (3747, 9)\t1.0\n",
      "  (3748, 0)\t1.0\n",
      "  (3749, 3)\t1.0\n",
      "  (3750, 9)\t1.0\n",
      "  (3751, 3)\t1.0\n",
      "  (3752, 2)\t1.0\n",
      "  (3753, 2)\t1.0\n",
      "  (3754, 2)\t1.0\n"
     ]
    }
   ],
   "source": [
    "from sklearn.preprocessing import KBinsDiscretizer\n",
    "\n",
    "n_bins = 10  # 分箱數\n",
    "strategy = 'uniform'  # 分箱策略: uniform、quantile、kmeans\n",
    "discretizer = KBinsDiscretizer(n_bins=n_bins, encode='onehot', strategy=strategy)\n",
    "\n",
    "# 選擇要分箱的特徵列\n",
    "feature_to_discretize = ['salary_in_usd']\n",
    "\n",
    "data_binned = discretizer.fit_transform(data[feature_to_discretize])\n",
    "feature_names = discretizer.get_feature_names_out(feature_to_discretize)\n",
    "\n",
    "print(data_binned)"
   ]
  },
  {
   "cell_type": "markdown",
   "id": "c1c6d570",
   "metadata": {},
   "source": [
    "# Standardize"
   ]
  },
  {
   "cell_type": "code",
   "execution_count": 7,
   "id": "9b73e94f",
   "metadata": {},
   "outputs": [
    {
     "name": "stdout",
     "output_type": "stream",
     "text": [
      "      salary_in_usd\n",
      "0         -1.563635\n",
      "1         -1.563635\n",
      "2         -1.563635\n",
      "3          0.639535\n",
      "4          0.639535\n",
      "...             ...\n",
      "3750       0.639535\n",
      "3751       0.639535\n",
      "3752       0.639535\n",
      "3753      -1.563635\n",
      "3754      -1.563635\n",
      "\n",
      "[3755 rows x 1 columns]\n"
     ]
    }
   ],
   "source": [
    "from sklearn.preprocessing import StandardScaler\n",
    "\n",
    "scaler = StandardScaler()\n",
    "\n",
    "feature_to_scale = ['salary_in_usd']\n",
    "data[feature_to_scale] = scaler.fit_transform(data[feature_to_scale])\n",
    "\n",
    "print(data[feature_to_scale])"
   ]
  },
  {
   "cell_type": "markdown",
   "id": "30d7a838",
   "metadata": {},
   "source": [
    "# Normalize"
   ]
  },
  {
   "cell_type": "code",
   "execution_count": 229,
   "id": "7b502f09",
   "metadata": {},
   "outputs": [
    {
     "name": "stdout",
     "output_type": "stream",
     "text": [
      "      salary_in_usd\n",
      "0          0.181436\n",
      "1          0.055900\n",
      "2          0.045784\n",
      "3          0.381839\n",
      "4          0.258207\n",
      "...             ...\n",
      "3750       0.914581\n",
      "3751       0.327891\n",
      "3752       0.224489\n",
      "3753       0.213250\n",
      "3754       0.201257\n",
      "\n",
      "[3755 rows x 1 columns]\n"
     ]
    }
   ],
   "source": [
    "from sklearn.preprocessing import MinMaxScaler\n",
    "\n",
    "scaler = MinMaxScaler()\n",
    "\n",
    "feature_to_scale = ['salary_in_usd']\n",
    "data[feature_to_scale] = scaler.fit_transform(data[feature_to_scale])\n",
    "\n",
    "print(data[feature_to_scale])"
   ]
  },
  {
   "cell_type": "markdown",
   "id": "b8eeec28",
   "metadata": {},
   "source": [
    "# Dimension reduction"
   ]
  },
  {
   "cell_type": "code",
   "execution_count": 230,
   "id": "a54c77da",
   "metadata": {},
   "outputs": [
    {
     "name": "stdout",
     "output_type": "stream",
     "text": [
      "[[-1.10695572e+05 -5.39584513e+01]\n",
      " [-1.60695572e+05 -5.40623941e+01]\n",
      " [-1.65195572e+05 -5.40717487e+01]\n",
      " ...\n",
      " [-8.56955717e+04 -5.39064836e+01]\n",
      " [-9.06955717e+04 -5.39168776e+01]\n",
      " [ 6.80930443e+06  1.04240061e+01]]\n"
     ]
    }
   ],
   "source": [
    "from sklearn.decomposition import PCA\n",
    "\n",
    "features_to_pca = ['salary', 'salary_in_usd', 'remote_ratio']\n",
    "\n",
    "n_components = 2  # 指定降维后的维度\n",
    "pca = PCA(n_components=n_components)\n",
    "\n",
    "data_pca = pca.fit_transform(data[features_to_pca])\n",
    "\n",
    "data[['PCA_1', 'PCA_2']] = data_pca\n",
    "\n",
    "data.drop(features_to_pca, axis=1, inplace=True)\n",
    "\n",
    "print(data_pca)"
   ]
  },
  {
   "cell_type": "markdown",
   "id": "cafe3398",
   "metadata": {},
   "source": [
    "# Feature selection"
   ]
  },
  {
   "cell_type": "code",
   "execution_count": null,
   "id": "42116f4b",
   "metadata": {},
   "outputs": [],
   "source": []
  }
 ],
 "metadata": {
  "kernelspec": {
   "display_name": "Python 3 (ipykernel)",
   "language": "python",
   "name": "python3"
  },
  "language_info": {
   "codemirror_mode": {
    "name": "ipython",
    "version": 3
   },
   "file_extension": ".py",
   "mimetype": "text/x-python",
   "name": "python",
   "nbconvert_exporter": "python",
   "pygments_lexer": "ipython3",
   "version": "3.9.13"
  }
 },
 "nbformat": 4,
 "nbformat_minor": 5
}
