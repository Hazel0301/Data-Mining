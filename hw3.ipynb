{
 "cells": [
  {
   "cell_type": "markdown",
   "id": "681217a5",
   "metadata": {},
   "source": [
    "# Read Data"
   ]
  },
  {
   "cell_type": "code",
   "execution_count": 54,
   "id": "fb54dc3c",
   "metadata": {},
   "outputs": [
    {
     "name": "stdout",
     "output_type": "stream",
     "text": [
      "Number of instances = 3755\n",
      "Number of attributes = 10\n"
     ]
    },
    {
     "data": {
      "text/html": [
       "<div>\n",
       "<style scoped>\n",
       "    .dataframe tbody tr th:only-of-type {\n",
       "        vertical-align: middle;\n",
       "    }\n",
       "\n",
       "    .dataframe tbody tr th {\n",
       "        vertical-align: top;\n",
       "    }\n",
       "\n",
       "    .dataframe thead th {\n",
       "        text-align: right;\n",
       "    }\n",
       "</style>\n",
       "<table border=\"1\" class=\"dataframe\">\n",
       "  <thead>\n",
       "    <tr style=\"text-align: right;\">\n",
       "      <th></th>\n",
       "      <th>experience_level</th>\n",
       "      <th>employment_type</th>\n",
       "      <th>job_title</th>\n",
       "      <th>salary</th>\n",
       "      <th>salary_currency</th>\n",
       "      <th>salary_in_usd</th>\n",
       "      <th>employee_residence</th>\n",
       "      <th>remote_ratio</th>\n",
       "      <th>company_location</th>\n",
       "      <th>company_size</th>\n",
       "    </tr>\n",
       "  </thead>\n",
       "  <tbody>\n",
       "    <tr>\n",
       "      <th>0</th>\n",
       "      <td>SE</td>\n",
       "      <td>FT</td>\n",
       "      <td>Principal Data Scientist</td>\n",
       "      <td>80000</td>\n",
       "      <td>EUR</td>\n",
       "      <td>85847</td>\n",
       "      <td>ES</td>\n",
       "      <td>100</td>\n",
       "      <td>ES</td>\n",
       "      <td>L</td>\n",
       "    </tr>\n",
       "    <tr>\n",
       "      <th>1</th>\n",
       "      <td>MI</td>\n",
       "      <td>CT</td>\n",
       "      <td>ML Engineer</td>\n",
       "      <td>30000</td>\n",
       "      <td>USD</td>\n",
       "      <td>30000</td>\n",
       "      <td>US</td>\n",
       "      <td>100</td>\n",
       "      <td>US</td>\n",
       "      <td>S</td>\n",
       "    </tr>\n",
       "    <tr>\n",
       "      <th>2</th>\n",
       "      <td>MI</td>\n",
       "      <td>CT</td>\n",
       "      <td>ML Engineer</td>\n",
       "      <td>25500</td>\n",
       "      <td>USD</td>\n",
       "      <td>25500</td>\n",
       "      <td>US</td>\n",
       "      <td>100</td>\n",
       "      <td>US</td>\n",
       "      <td>S</td>\n",
       "    </tr>\n",
       "    <tr>\n",
       "      <th>3</th>\n",
       "      <td>SE</td>\n",
       "      <td>FT</td>\n",
       "      <td>Data Scientist</td>\n",
       "      <td>175000</td>\n",
       "      <td>USD</td>\n",
       "      <td>175000</td>\n",
       "      <td>CA</td>\n",
       "      <td>100</td>\n",
       "      <td>CA</td>\n",
       "      <td>M</td>\n",
       "    </tr>\n",
       "    <tr>\n",
       "      <th>4</th>\n",
       "      <td>SE</td>\n",
       "      <td>FT</td>\n",
       "      <td>Data Scientist</td>\n",
       "      <td>120000</td>\n",
       "      <td>USD</td>\n",
       "      <td>120000</td>\n",
       "      <td>CA</td>\n",
       "      <td>100</td>\n",
       "      <td>CA</td>\n",
       "      <td>M</td>\n",
       "    </tr>\n",
       "  </tbody>\n",
       "</table>\n",
       "</div>"
      ],
      "text/plain": [
       "  experience_level employment_type                 job_title  salary  \\\n",
       "0               SE              FT  Principal Data Scientist   80000   \n",
       "1               MI              CT               ML Engineer   30000   \n",
       "2               MI              CT               ML Engineer   25500   \n",
       "3               SE              FT            Data Scientist  175000   \n",
       "4               SE              FT            Data Scientist  120000   \n",
       "\n",
       "  salary_currency  salary_in_usd employee_residence  remote_ratio  \\\n",
       "0             EUR          85847                 ES           100   \n",
       "1             USD          30000                 US           100   \n",
       "2             USD          25500                 US           100   \n",
       "3             USD         175000                 CA           100   \n",
       "4             USD         120000                 CA           100   \n",
       "\n",
       "  company_location company_size  \n",
       "0               ES            L  \n",
       "1               US            S  \n",
       "2               US            S  \n",
       "3               CA            M  \n",
       "4               CA            M  "
      ]
     },
     "execution_count": 54,
     "metadata": {},
     "output_type": "execute_result"
    }
   ],
   "source": [
    "import pandas as pd\n",
    "data = pd.read_csv('ds_salaries.csv', header=None)\n",
    "data.columns = ['work_year', 'experience_level', 'employment_type', 'job_title',\n",
    "                'salary', 'salary_currency', 'salary_in_usd',\n",
    "                'employee_residence', 'remote_ratio', 'company_location','company_size']\n",
    "\n",
    "data = data.drop(['work_year'],axis=1)\n",
    "print('Number of instances = %d' % (data.shape[0]))\n",
    "print('Number of attributes = %d' % (data.shape[1]))\n",
    "data.head()"
   ]
  },
  {
   "cell_type": "markdown",
   "id": "42e669d8",
   "metadata": {},
   "source": [
    "# Missing Data"
   ]
  },
  {
   "cell_type": "code",
   "execution_count": 55,
   "id": "6e69df62",
   "metadata": {},
   "outputs": [
    {
     "name": "stdout",
     "output_type": "stream",
     "text": [
      "Number of instances = 3755\n",
      "Number of attributes = 10\n",
      "Number of missing values:\n",
      "\texperience_level: 0\n",
      "\temployment_type: 0\n",
      "\tjob_title: 0\n",
      "\tsalary: 0\n",
      "\tsalary_currency: 0\n",
      "\tsalary_in_usd: 0\n",
      "\temployee_residence: 0\n",
      "\tremote_ratio: 0\n",
      "\tcompany_location: 0\n",
      "\tcompany_size: 0\n"
     ]
    }
   ],
   "source": [
    "import numpy as np\n",
    "from sklearn.impute import SimpleImputer\n",
    "\n",
    "data = data.replace('?',np.NaN)\n",
    "imputer = SimpleImputer(strategy='mean')\n",
    "\n",
    "print('Number of instances = %d' % (data.shape[0]))\n",
    "print('Number of attributes = %d' % (data.shape[1]))\n",
    "\n",
    "print('Number of missing values:')\n",
    "for col in data.columns:\n",
    "    print('\\t%s: %d' % (col,data[col].isna().sum()))"
   ]
  },
  {
   "cell_type": "code",
   "execution_count": 56,
   "id": "7ec25e4e",
   "metadata": {},
   "outputs": [],
   "source": [
    "#if missing value\n",
    "\n",
    "#data2 = data['employee_residence']\n",
    "#print('Before replacing missing values:')\n",
    "#print(data2[20:25])\n",
    "#data2 = data2.fillna(data2.median())\n",
    "#print('\\nAfter replacing missing values:')\n",
    "#print(data2[20:25])"
   ]
  },
  {
   "cell_type": "code",
   "execution_count": 57,
   "id": "c4a31602",
   "metadata": {},
   "outputs": [
    {
     "name": "stdout",
     "output_type": "stream",
     "text": [
      "Number of rows in original data = 3755\n",
      "Number of rows after discarding missing values = 3755\n"
     ]
    }
   ],
   "source": [
    "print('Number of rows in original data = %d' % (data.shape[0]))\n",
    "data2 = data.dropna()\n",
    "print('Number of rows after discarding missing values = %d' % (data2.shape[0]))"
   ]
  },
  {
   "cell_type": "markdown",
   "id": "759f0cfa",
   "metadata": {},
   "source": [
    "# Sampling"
   ]
  },
  {
   "cell_type": "code",
   "execution_count": 58,
   "id": "a99b4dac",
   "metadata": {},
   "outputs": [],
   "source": [
    "from sklearn.model_selection import train_test_split\n",
    "import random\n",
    "\n",
    "features = ['salary', 'salary_in_usd', 'remote_ratio'] #特徵列\n",
    "data[features] = imputer.fit_transform(data[features]) #轉換數值\n",
    "\n",
    "X = data[features]\n",
    "y = data[\"salary_in_usd\"]\n",
    "\n",
    "X_train, X_test, y_train, y_test = train_test_split(X, y, test_size=0.3, random_state=42) #test_size測試資料比例"
   ]
  },
  {
   "cell_type": "code",
   "execution_count": 59,
   "id": "12ef14c1",
   "metadata": {},
   "outputs": [
    {
     "data": {
      "text/html": [
       "<div>\n",
       "<style scoped>\n",
       "    .dataframe tbody tr th:only-of-type {\n",
       "        vertical-align: middle;\n",
       "    }\n",
       "\n",
       "    .dataframe tbody tr th {\n",
       "        vertical-align: top;\n",
       "    }\n",
       "\n",
       "    .dataframe thead th {\n",
       "        text-align: right;\n",
       "    }\n",
       "</style>\n",
       "<table border=\"1\" class=\"dataframe\">\n",
       "  <thead>\n",
       "    <tr style=\"text-align: right;\">\n",
       "      <th></th>\n",
       "      <th>salary</th>\n",
       "      <th>salary_in_usd</th>\n",
       "      <th>remote_ratio</th>\n",
       "    </tr>\n",
       "  </thead>\n",
       "  <tbody>\n",
       "    <tr>\n",
       "      <th>2152</th>\n",
       "      <td>243000.0</td>\n",
       "      <td>243000.0</td>\n",
       "      <td>100.0</td>\n",
       "    </tr>\n",
       "    <tr>\n",
       "      <th>1215</th>\n",
       "      <td>180000.0</td>\n",
       "      <td>180000.0</td>\n",
       "      <td>100.0</td>\n",
       "    </tr>\n",
       "    <tr>\n",
       "      <th>2674</th>\n",
       "      <td>191475.0</td>\n",
       "      <td>191475.0</td>\n",
       "      <td>100.0</td>\n",
       "    </tr>\n",
       "    <tr>\n",
       "      <th>1290</th>\n",
       "      <td>110000.0</td>\n",
       "      <td>110000.0</td>\n",
       "      <td>100.0</td>\n",
       "    </tr>\n",
       "    <tr>\n",
       "      <th>2095</th>\n",
       "      <td>165000.0</td>\n",
       "      <td>165000.0</td>\n",
       "      <td>0.0</td>\n",
       "    </tr>\n",
       "  </tbody>\n",
       "</table>\n",
       "</div>"
      ],
      "text/plain": [
       "        salary  salary_in_usd  remote_ratio\n",
       "2152  243000.0       243000.0         100.0\n",
       "1215  180000.0       180000.0         100.0\n",
       "2674  191475.0       191475.0         100.0\n",
       "1290  110000.0       110000.0         100.0\n",
       "2095  165000.0       165000.0           0.0"
      ]
     },
     "execution_count": 59,
     "metadata": {},
     "output_type": "execute_result"
    }
   ],
   "source": [
    "# 使用 sample_without_replacement()\n",
    "sampled_data = random.sample(list(X_train.index), k=100)  #100個樣本\n",
    "\n",
    "# 取樣\n",
    "sampled_X_train = X_train.loc[sampled_data]\n",
    "sampled_y_train = y_train.loc[sampled_data]\n",
    "\n",
    "sampled_X_train.head()"
   ]
  },
  {
   "cell_type": "markdown",
   "id": "a7b66251",
   "metadata": {},
   "source": [
    "# Binarize"
   ]
  },
  {
   "cell_type": "code",
   "execution_count": 77,
   "id": "3a484700",
   "metadata": {},
   "outputs": [
    {
     "name": "stderr",
     "output_type": "stream",
     "text": [
      "C:\\Users\\venchi\\AppData\\Local\\Temp\\ipykernel_19432\\520731794.py:6: PerformanceWarning: DataFrame is highly fragmented.  This is usually the result of calling `frame.insert` many times, which has poor performance.  Consider joining all columns at once using pd.concat(axis=1) instead. To get a de-fragmented frame, use `newframe = frame.copy()`\n",
      "  data['salary_binary'] = binary_data\n"
     ]
    }
   ],
   "source": [
    "from sklearn.preprocessing import Binarizer\n",
    "\n",
    "binarizer = Binarizer(threshold=60000) #二元化分界\n",
    "\n",
    "binary_data = binarizer.transform(data['salary_in_usd'].values.reshape(-1, 1))\n",
    "data['salary_binary'] = binary_data"
   ]
  },
  {
   "cell_type": "code",
   "execution_count": 81,
   "id": "b5d0b26e",
   "metadata": {},
   "outputs": [
    {
     "name": "stdout",
     "output_type": "stream",
     "text": [
      "['salary_in_usd_5132.0' 'salary_in_usd_5409.0' 'salary_in_usd_5679.0' ...\n",
      " 'salary_in_usd_423834.0' 'salary_in_usd_430967.0'\n",
      " 'salary_in_usd_450000.0']\n"
     ]
    }
   ],
   "source": [
    "from sklearn.preprocessing import OneHotEncoder\n",
    "\n",
    "encoder = OneHotEncoder()\n",
    "encoded_data = encoder.fit_transform(data['salary_in_usd'].values.reshape(-1, 1))\n",
    "\n",
    "encoded_columns = encoder.get_feature_names_out(['salary_in_usd'])\n",
    "data[encoded_columns] = encoded_data.toarray()\n",
    "\n",
    "print(encoded_columns)"
   ]
  },
  {
   "cell_type": "code",
   "execution_count": null,
   "id": "90ad1cee",
   "metadata": {},
   "outputs": [],
   "source": []
  }
 ],
 "metadata": {
  "kernelspec": {
   "display_name": "Python 3 (ipykernel)",
   "language": "python",
   "name": "python3"
  },
  "language_info": {
   "codemirror_mode": {
    "name": "ipython",
    "version": 3
   },
   "file_extension": ".py",
   "mimetype": "text/x-python",
   "name": "python",
   "nbconvert_exporter": "python",
   "pygments_lexer": "ipython3",
   "version": "3.9.13"
  }
 },
 "nbformat": 4,
 "nbformat_minor": 5
}
