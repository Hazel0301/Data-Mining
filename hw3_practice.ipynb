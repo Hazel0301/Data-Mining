{
 "cells": [
  {
   "cell_type": "markdown",
   "id": "681217a5",
   "metadata": {},
   "source": [
    "# Read Data"
   ]
  },
  {
   "cell_type": "code",
   "execution_count": 272,
   "id": "fb54dc3c",
   "metadata": {},
   "outputs": [
    {
     "name": "stdout",
     "output_type": "stream",
     "text": [
      "Number of instances = 3755\n",
      "Number of attributes = 11\n"
     ]
    },
    {
     "data": {
      "text/html": [
       "<div>\n",
       "<style scoped>\n",
       "    .dataframe tbody tr th:only-of-type {\n",
       "        vertical-align: middle;\n",
       "    }\n",
       "\n",
       "    .dataframe tbody tr th {\n",
       "        vertical-align: top;\n",
       "    }\n",
       "\n",
       "    .dataframe thead th {\n",
       "        text-align: right;\n",
       "    }\n",
       "</style>\n",
       "<table border=\"1\" class=\"dataframe\">\n",
       "  <thead>\n",
       "    <tr style=\"text-align: right;\">\n",
       "      <th></th>\n",
       "      <th>work_year</th>\n",
       "      <th>experience_level</th>\n",
       "      <th>employment_type</th>\n",
       "      <th>job_title</th>\n",
       "      <th>salary</th>\n",
       "      <th>salary_currency</th>\n",
       "      <th>salary_in_usd</th>\n",
       "      <th>employee_residence</th>\n",
       "      <th>remote_ratio</th>\n",
       "      <th>company_location</th>\n",
       "      <th>company_size</th>\n",
       "    </tr>\n",
       "  </thead>\n",
       "  <tbody>\n",
       "    <tr>\n",
       "      <th>0</th>\n",
       "      <td>2023</td>\n",
       "      <td>SE</td>\n",
       "      <td>FT</td>\n",
       "      <td>Principal Data Scientist</td>\n",
       "      <td>80000</td>\n",
       "      <td>EUR</td>\n",
       "      <td>85847</td>\n",
       "      <td>ES</td>\n",
       "      <td>100</td>\n",
       "      <td>ES</td>\n",
       "      <td>L</td>\n",
       "    </tr>\n",
       "    <tr>\n",
       "      <th>1</th>\n",
       "      <td>2023</td>\n",
       "      <td>MI</td>\n",
       "      <td>CT</td>\n",
       "      <td>ML Engineer</td>\n",
       "      <td>30000</td>\n",
       "      <td>USD</td>\n",
       "      <td>30000</td>\n",
       "      <td>US</td>\n",
       "      <td>100</td>\n",
       "      <td>US</td>\n",
       "      <td>S</td>\n",
       "    </tr>\n",
       "    <tr>\n",
       "      <th>2</th>\n",
       "      <td>2023</td>\n",
       "      <td>MI</td>\n",
       "      <td>CT</td>\n",
       "      <td>ML Engineer</td>\n",
       "      <td>25500</td>\n",
       "      <td>USD</td>\n",
       "      <td>25500</td>\n",
       "      <td>US</td>\n",
       "      <td>100</td>\n",
       "      <td>US</td>\n",
       "      <td>S</td>\n",
       "    </tr>\n",
       "    <tr>\n",
       "      <th>3</th>\n",
       "      <td>2023</td>\n",
       "      <td>SE</td>\n",
       "      <td>FT</td>\n",
       "      <td>Data Scientist</td>\n",
       "      <td>175000</td>\n",
       "      <td>USD</td>\n",
       "      <td>175000</td>\n",
       "      <td>CA</td>\n",
       "      <td>100</td>\n",
       "      <td>CA</td>\n",
       "      <td>M</td>\n",
       "    </tr>\n",
       "    <tr>\n",
       "      <th>4</th>\n",
       "      <td>2023</td>\n",
       "      <td>SE</td>\n",
       "      <td>FT</td>\n",
       "      <td>Data Scientist</td>\n",
       "      <td>120000</td>\n",
       "      <td>USD</td>\n",
       "      <td>120000</td>\n",
       "      <td>CA</td>\n",
       "      <td>100</td>\n",
       "      <td>CA</td>\n",
       "      <td>M</td>\n",
       "    </tr>\n",
       "  </tbody>\n",
       "</table>\n",
       "</div>"
      ],
      "text/plain": [
       "   work_year experience_level employment_type                 job_title  \\\n",
       "0       2023               SE              FT  Principal Data Scientist   \n",
       "1       2023               MI              CT               ML Engineer   \n",
       "2       2023               MI              CT               ML Engineer   \n",
       "3       2023               SE              FT            Data Scientist   \n",
       "4       2023               SE              FT            Data Scientist   \n",
       "\n",
       "   salary salary_currency  salary_in_usd employee_residence  remote_ratio  \\\n",
       "0   80000             EUR          85847                 ES           100   \n",
       "1   30000             USD          30000                 US           100   \n",
       "2   25500             USD          25500                 US           100   \n",
       "3  175000             USD         175000                 CA           100   \n",
       "4  120000             USD         120000                 CA           100   \n",
       "\n",
       "  company_location company_size  \n",
       "0               ES            L  \n",
       "1               US            S  \n",
       "2               US            S  \n",
       "3               CA            M  \n",
       "4               CA            M  "
      ]
     },
     "execution_count": 272,
     "metadata": {},
     "output_type": "execute_result"
    }
   ],
   "source": [
    "import pandas as pd\n",
    "import numpy as np\n",
    "\n",
    "data = pd.read_csv('ds_salaries.csv', header=None)\n",
    "data.columns = ['work_year', 'experience_level', 'employment_type', 'job_title',\n",
    "                'salary', 'salary_currency', 'salary_in_usd',\n",
    "                'employee_residence', 'remote_ratio', 'company_location','company_size']\n",
    "\n",
    "#data = data.drop(['work_year'],axis=1) #刪除\n",
    "print('Number of instances = %d' % (data.shape[0]))\n",
    "print('Number of attributes = %d' % (data.shape[1]))\n",
    "data.head()"
   ]
  },
  {
   "cell_type": "markdown",
   "id": "056c6a12",
   "metadata": {},
   "source": [
    "# Missing Data"
   ]
  },
  {
   "cell_type": "code",
   "execution_count": 248,
   "id": "8f4f1db8",
   "metadata": {},
   "outputs": [
    {
     "name": "stdout",
     "output_type": "stream",
     "text": [
      "Number of instances = 3755\n",
      "Number of attributes = 11\n",
      "Number of missing values:\n",
      "\twork_year: 0\n",
      "\texperience_level: 0\n",
      "\temployment_type: 0\n",
      "\tjob_title: 0\n",
      "\tsalary: 0\n",
      "\tsalary_currency: 0\n",
      "\tsalary_in_usd: 0\n",
      "\temployee_residence: 0\n",
      "\tremote_ratio: 0\n",
      "\tcompany_location: 0\n",
      "\tcompany_size: 0\n"
     ]
    }
   ],
   "source": [
    "from sklearn.impute import SimpleImputer\n",
    "\n",
    "data = data.replace('?',np.NaN)\n",
    "imputer = SimpleImputer(strategy='mean')\n",
    "\n",
    "print('Number of instances = %d' % (data.shape[0]))\n",
    "print('Number of attributes = %d' % (data.shape[1]))\n",
    "\n",
    "print('Number of missing values:')\n",
    "for col in data.columns:\n",
    "    print('\\t%s: %d' % (col,data[col].isna().sum()))"
   ]
  },
  {
   "cell_type": "code",
   "execution_count": 249,
   "id": "4a63656a",
   "metadata": {},
   "outputs": [],
   "source": [
    "#if missing value\n",
    "\n",
    "#data2 = data['employee_residence']\n",
    "#print('Before replacing missing values:')\n",
    "#print(data2[20:25])\n",
    "#data2 = data2.fillna(data2.median())\n",
    "#print('\\nAfter replacing missing values:')\n",
    "#print(data2[20:25])"
   ]
  },
  {
   "cell_type": "code",
   "execution_count": 250,
   "id": "db026b1c",
   "metadata": {},
   "outputs": [
    {
     "name": "stdout",
     "output_type": "stream",
     "text": [
      "Number of rows in original data = 3755\n",
      "Number of rows after discarding missing values = 3755\n"
     ]
    }
   ],
   "source": [
    "print('Number of rows in original data = %d' % (data.shape[0]))\n",
    "data2 = data.dropna()\n",
    "print('Number of rows after discarding missing values = %d' % (data2.shape[0]))"
   ]
  },
  {
   "cell_type": "markdown",
   "id": "7c59dc94",
   "metadata": {},
   "source": [
    "# Sampling"
   ]
  },
  {
   "cell_type": "code",
   "execution_count": 251,
   "id": "c5f8c8dc",
   "metadata": {},
   "outputs": [],
   "source": [
    "from sklearn.model_selection import train_test_split\n",
    "import random\n",
    "\n",
    "features = ['salary', 'salary_in_usd', 'remote_ratio'] #特徵列\n",
    "data[features] = imputer.fit_transform(data[features]) #轉換數值\n",
    "\n",
    "X = data[features]\n",
    "y = data[\"salary_in_usd\"]\n",
    "\n",
    "X_train, X_test, y_train, y_test = train_test_split(X, y, test_size=0.3, random_state=42) #test_size測試資料比例"
   ]
  },
  {
   "cell_type": "code",
   "execution_count": 252,
   "id": "706aa003",
   "metadata": {},
   "outputs": [
    {
     "data": {
      "text/html": [
       "<div>\n",
       "<style scoped>\n",
       "    .dataframe tbody tr th:only-of-type {\n",
       "        vertical-align: middle;\n",
       "    }\n",
       "\n",
       "    .dataframe tbody tr th {\n",
       "        vertical-align: top;\n",
       "    }\n",
       "\n",
       "    .dataframe thead th {\n",
       "        text-align: right;\n",
       "    }\n",
       "</style>\n",
       "<table border=\"1\" class=\"dataframe\">\n",
       "  <thead>\n",
       "    <tr style=\"text-align: right;\">\n",
       "      <th></th>\n",
       "      <th>salary</th>\n",
       "      <th>salary_in_usd</th>\n",
       "      <th>remote_ratio</th>\n",
       "    </tr>\n",
       "  </thead>\n",
       "  <tbody>\n",
       "    <tr>\n",
       "      <th>1013</th>\n",
       "      <td>247500.0</td>\n",
       "      <td>247500.0</td>\n",
       "      <td>0.0</td>\n",
       "    </tr>\n",
       "    <tr>\n",
       "      <th>2057</th>\n",
       "      <td>81666.0</td>\n",
       "      <td>81666.0</td>\n",
       "      <td>100.0</td>\n",
       "    </tr>\n",
       "    <tr>\n",
       "      <th>606</th>\n",
       "      <td>52500.0</td>\n",
       "      <td>52500.0</td>\n",
       "      <td>100.0</td>\n",
       "    </tr>\n",
       "    <tr>\n",
       "      <th>2428</th>\n",
       "      <td>170000.0</td>\n",
       "      <td>170000.0</td>\n",
       "      <td>100.0</td>\n",
       "    </tr>\n",
       "    <tr>\n",
       "      <th>894</th>\n",
       "      <td>120000.0</td>\n",
       "      <td>120000.0</td>\n",
       "      <td>100.0</td>\n",
       "    </tr>\n",
       "  </tbody>\n",
       "</table>\n",
       "</div>"
      ],
      "text/plain": [
       "        salary  salary_in_usd  remote_ratio\n",
       "1013  247500.0       247500.0           0.0\n",
       "2057   81666.0        81666.0         100.0\n",
       "606    52500.0        52500.0         100.0\n",
       "2428  170000.0       170000.0         100.0\n",
       "894   120000.0       120000.0         100.0"
      ]
     },
     "execution_count": 252,
     "metadata": {},
     "output_type": "execute_result"
    }
   ],
   "source": [
    "# 使用 sample_without_replacement()\n",
    "sampled_data = random.sample(list(X_train.index), k=100)  #100個樣本\n",
    "\n",
    "# 取樣\n",
    "sampled_X_train = X_train.loc[sampled_data]\n",
    "sampled_y_train = y_train.loc[sampled_data]\n",
    "\n",
    "sampled_X_train.head()"
   ]
  },
  {
   "cell_type": "markdown",
   "id": "de583ca5",
   "metadata": {},
   "source": [
    "# Binarize"
   ]
  },
  {
   "cell_type": "code",
   "execution_count": 253,
   "id": "8a7ec58b",
   "metadata": {},
   "outputs": [
    {
     "name": "stdout",
     "output_type": "stream",
     "text": [
      "[[0.]\n",
      " [0.]\n",
      " [0.]\n",
      " ...\n",
      " [1.]\n",
      " [0.]\n",
      " [0.]]\n"
     ]
    }
   ],
   "source": [
    "from sklearn.preprocessing import Binarizer\n",
    "\n",
    "binarizer = Binarizer(threshold=100000) #二元化分界\n",
    "binary_data = binarizer.transform(data['salary_in_usd'].values.reshape(-1, 1))\n",
    "data['salary_binary'] = binary_data\n",
    "\n",
    "print(binary_data)"
   ]
  },
  {
   "cell_type": "code",
   "execution_count": 254,
   "id": "339de45b",
   "metadata": {},
   "outputs": [
    {
     "name": "stdout",
     "output_type": "stream",
     "text": [
      "  (0, 7)\t1.0\n",
      "  (1, 19)\t1.0\n",
      "  (2, 19)\t1.0\n",
      "  (3, 19)\t1.0\n",
      "  (4, 19)\t1.0\n",
      "  (5, 19)\t1.0\n",
      "  (6, 19)\t1.0\n",
      "  (7, 19)\t1.0\n",
      "  (8, 19)\t1.0\n",
      "  (9, 19)\t1.0\n",
      "  (10, 19)\t1.0\n",
      "  (11, 19)\t1.0\n",
      "  (12, 19)\t1.0\n",
      "  (13, 19)\t1.0\n",
      "  (14, 19)\t1.0\n",
      "  (15, 19)\t1.0\n",
      "  (16, 19)\t1.0\n",
      "  (17, 19)\t1.0\n",
      "  (18, 19)\t1.0\n",
      "  (19, 19)\t1.0\n",
      "  (20, 19)\t1.0\n",
      "  (21, 19)\t1.0\n",
      "  (22, 19)\t1.0\n",
      "  (23, 19)\t1.0\n",
      "  (24, 19)\t1.0\n",
      "  :\t:\n",
      "  (3730, 7)\t1.0\n",
      "  (3731, 7)\t1.0\n",
      "  (3732, 19)\t1.0\n",
      "  (3733, 19)\t1.0\n",
      "  (3734, 12)\t1.0\n",
      "  (3735, 19)\t1.0\n",
      "  (3736, 19)\t1.0\n",
      "  (3737, 19)\t1.0\n",
      "  (3738, 19)\t1.0\n",
      "  (3739, 7)\t1.0\n",
      "  (3740, 19)\t1.0\n",
      "  (3741, 19)\t1.0\n",
      "  (3742, 19)\t1.0\n",
      "  (3743, 19)\t1.0\n",
      "  (3744, 7)\t1.0\n",
      "  (3745, 19)\t1.0\n",
      "  (3746, 16)\t1.0\n",
      "  (3747, 19)\t1.0\n",
      "  (3748, 7)\t1.0\n",
      "  (3749, 19)\t1.0\n",
      "  (3750, 19)\t1.0\n",
      "  (3751, 19)\t1.0\n",
      "  (3752, 19)\t1.0\n",
      "  (3753, 19)\t1.0\n",
      "  (3754, 12)\t1.0\n"
     ]
    }
   ],
   "source": [
    "from sklearn.preprocessing import OneHotEncoder\n",
    "\n",
    "encoder = OneHotEncoder()\n",
    "\n",
    "categorical_columns = ['salary_currency']\n",
    "encoded_data = encoder.fit_transform(data[categorical_columns])\n",
    "encoded_columns = encoder.get_feature_names_out(categorical_columns)\n",
    "\n",
    "print(encoded_data)"
   ]
  },
  {
   "cell_type": "markdown",
   "id": "853416cd",
   "metadata": {},
   "source": [
    "# Discretization"
   ]
  },
  {
   "cell_type": "code",
   "execution_count": 255,
   "id": "dced7ec3",
   "metadata": {},
   "outputs": [
    {
     "name": "stdout",
     "output_type": "stream",
     "text": [
      "  (0, 0)\t1.0\n",
      "  (1, 0)\t1.0\n",
      "  (2, 0)\t1.0\n",
      "  (3, 1)\t1.0\n",
      "  (4, 1)\t1.0\n",
      "  (5, 2)\t1.0\n",
      "  (6, 1)\t1.0\n",
      "  (7, 2)\t1.0\n",
      "  (8, 1)\t1.0\n",
      "  (9, 1)\t1.0\n",
      "  (10, 0)\t1.0\n",
      "  (11, 1)\t1.0\n",
      "  (12, 1)\t1.0\n",
      "  (13, 2)\t1.0\n",
      "  (14, 1)\t1.0\n",
      "  (15, 1)\t1.0\n",
      "  (16, 0)\t1.0\n",
      "  (17, 1)\t1.0\n",
      "  (18, 1)\t1.0\n",
      "  (19, 1)\t1.0\n",
      "  (20, 1)\t1.0\n",
      "  (21, 3)\t1.0\n",
      "  (22, 1)\t1.0\n",
      "  (23, 2)\t1.0\n",
      "  (24, 1)\t1.0\n",
      "  :\t:\n",
      "  (3730, 0)\t1.0\n",
      "  (3731, 0)\t1.0\n",
      "  (3732, 1)\t1.0\n",
      "  (3733, 2)\t1.0\n",
      "  (3734, 0)\t1.0\n",
      "  (3735, 0)\t1.0\n",
      "  (3736, 0)\t1.0\n",
      "  (3737, 0)\t1.0\n",
      "  (3738, 0)\t1.0\n",
      "  (3739, 0)\t1.0\n",
      "  (3740, 2)\t1.0\n",
      "  (3741, 1)\t1.0\n",
      "  (3742, 1)\t1.0\n",
      "  (3743, 1)\t1.0\n",
      "  (3744, 0)\t1.0\n",
      "  (3745, 1)\t1.0\n",
      "  (3746, 1)\t1.0\n",
      "  (3747, 4)\t1.0\n",
      "  (3748, 0)\t1.0\n",
      "  (3749, 1)\t1.0\n",
      "  (3750, 4)\t1.0\n",
      "  (3751, 1)\t1.0\n",
      "  (3752, 1)\t1.0\n",
      "  (3753, 1)\t1.0\n",
      "  (3754, 1)\t1.0\n"
     ]
    }
   ],
   "source": [
    "from sklearn.preprocessing import KBinsDiscretizer\n",
    "\n",
    "n_bins = 5  # 分箱數\n",
    "strategy = 'uniform'  # 分箱策略: uniform、quantile、kmeans\n",
    "discretizer = KBinsDiscretizer(n_bins=n_bins, encode='onehot', strategy=strategy)\n",
    "\n",
    "# 選擇要分箱的特徵列\n",
    "feature_to_discretize = ['salary_in_usd']\n",
    "\n",
    "data_binned = discretizer.fit_transform(data[feature_to_discretize])\n",
    "feature_names = discretizer.get_feature_names_out(feature_to_discretize)\n",
    "\n",
    "print(data_binned)"
   ]
  },
  {
   "cell_type": "markdown",
   "id": "f5dad029",
   "metadata": {},
   "source": [
    "# Standardize"
   ]
  },
  {
   "cell_type": "code",
   "execution_count": 256,
   "id": "34222a73",
   "metadata": {},
   "outputs": [
    {
     "name": "stdout",
     "output_type": "stream",
     "text": [
      "      salary_in_usd\n",
      "0         -0.820391\n",
      "1         -1.706187\n",
      "2         -1.777563\n",
      "3          0.593676\n",
      "4         -0.278686\n",
      "...             ...\n",
      "3750       4.352762\n",
      "3751       0.213009\n",
      "3752      -0.516603\n",
      "3753      -0.595909\n",
      "3754      -0.680528\n",
      "\n",
      "[3755 rows x 1 columns]\n"
     ]
    }
   ],
   "source": [
    "from sklearn.preprocessing import StandardScaler\n",
    "\n",
    "scaler = StandardScaler()\n",
    "\n",
    "feature_to_scale = ['salary_in_usd']\n",
    "data[feature_to_scale] = scaler.fit_transform(data[feature_to_scale])\n",
    "\n",
    "print(data[feature_to_scale])"
   ]
  },
  {
   "cell_type": "code",
   "execution_count": null,
   "id": "4a518b16",
   "metadata": {},
   "outputs": [],
   "source": []
  },
  {
   "cell_type": "markdown",
   "id": "5eeb3279",
   "metadata": {},
   "source": [
    "# Normalize"
   ]
  },
  {
   "cell_type": "code",
   "execution_count": 257,
   "id": "7976d767",
   "metadata": {},
   "outputs": [
    {
     "name": "stdout",
     "output_type": "stream",
     "text": [
      "      salary_in_usd\n",
      "0          0.181436\n",
      "1          0.055900\n",
      "2          0.045784\n",
      "3          0.381839\n",
      "4          0.258207\n",
      "...             ...\n",
      "3750       0.914581\n",
      "3751       0.327891\n",
      "3752       0.224489\n",
      "3753       0.213250\n",
      "3754       0.201257\n",
      "\n",
      "[3755 rows x 1 columns]\n"
     ]
    }
   ],
   "source": [
    "from sklearn.preprocessing import MinMaxScaler\n",
    "\n",
    "scaler = MinMaxScaler()\n",
    "\n",
    "feature_to_scale = ['salary_in_usd']\n",
    "data[feature_to_scale] = scaler.fit_transform(data[feature_to_scale])\n",
    "\n",
    "print(data[feature_to_scale])"
   ]
  },
  {
   "cell_type": "markdown",
   "id": "f4a2b83a",
   "metadata": {},
   "source": [
    "# Dimension reduction"
   ]
  },
  {
   "cell_type": "code",
   "execution_count": 258,
   "id": "b61411fe",
   "metadata": {},
   "outputs": [
    {
     "name": "stdout",
     "output_type": "stream",
     "text": [
      "[[-1.10695572e+05 -5.39584513e+01]\n",
      " [-1.60695572e+05 -5.40623941e+01]\n",
      " [-1.65195572e+05 -5.40717487e+01]\n",
      " ...\n",
      " [-8.56955717e+04 -5.39064836e+01]\n",
      " [-9.06955717e+04 -5.39168776e+01]\n",
      " [ 6.80930443e+06  1.04240061e+01]]\n"
     ]
    }
   ],
   "source": [
    "from sklearn.decomposition import PCA\n",
    "\n",
    "features_to_pca = ['salary', 'remote_ratio']\n",
    "\n",
    "n_components = 2  # 指定降维后的维度\n",
    "pca = PCA(n_components=n_components)\n",
    "\n",
    "data_pca = pca.fit_transform(data[features_to_pca])\n",
    "\n",
    "data[['PCA_1', 'PCA_2']] = data_pca\n",
    "\n",
    "data.drop(features_to_pca, axis=1, inplace=True)\n",
    "\n",
    "print(data_pca)"
   ]
  },
  {
   "cell_type": "markdown",
   "id": "2eb16c52",
   "metadata": {},
   "source": [
    "# Feature selection"
   ]
  },
  {
   "cell_type": "code",
   "execution_count": 269,
   "id": "bb137e5e",
   "metadata": {},
   "outputs": [
    {
     "name": "stdout",
     "output_type": "stream",
     "text": [
      "      work_year  salary_in_usd\n",
      "0          2023          85847\n",
      "1          2023          30000\n",
      "2          2023          25500\n",
      "3          2023         175000\n",
      "4          2023         120000\n",
      "...         ...            ...\n",
      "3750       2020         412000\n",
      "3751       2021         151000\n",
      "3752       2020         105000\n",
      "3753       2020         100000\n",
      "3754       2021          94665\n",
      "\n",
      "[3755 rows x 2 columns]\n"
     ]
    }
   ],
   "source": [
    "from sklearn.feature_selection import VarianceThreshold\n",
    "\n",
    "\n",
    "threshold = 0.01  # 方差閾值\n",
    "variance_threshold = VarianceThreshold(threshold=threshold)\n",
    "features_to_select = ['work_year', 'salary_in_usd']\n",
    "selected_data = variance_threshold.fit_transform(data[features_to_select])\n",
    "selected_feature_names = [feature for feature, is_selected in zip(features_to_select, variance_threshold.get_support()) if is_selected]\n",
    "data_selected = pd.DataFrame(selected_data, columns=selected_feature_names)\n",
    "data = pd.concat([data.drop(features_to_select, axis=1), data_selected], axis=1)\n",
    "\n",
    "print(data_selected)"
   ]
  },
  {
   "cell_type": "code",
   "execution_count": 275,
   "id": "fc952552",
   "metadata": {},
   "outputs": [
    {
     "name": "stdout",
     "output_type": "stream",
     "text": [
      "Index(['work_year', 'remote_ratio'], dtype='object')\n"
     ]
    }
   ],
   "source": [
    "from sklearn.feature_selection import SelectKBest, f_regression\n",
    "# 自變量和因變量\n",
    "X = data[['work_year', 'salary_in_usd', 'remote_ratio']]\n",
    "y = data['salary']\n",
    "\n",
    "# 定義\n",
    "k_best = SelectKBest(score_func=f_regression, k=2)  # 選擇相關性最高的2個\n",
    "\n",
    "# 選擇\n",
    "X_new = k_best.fit_transform(X, y)\n",
    "selected_feature_indices = k_best.get_support(indices=True)\n",
    "# 索引獲取\n",
    "selected_features = X.columns[selected_feature_indices]\n",
    "\n",
    "# 輸出\n",
    "print(selected_features)"
   ]
  },
  {
   "cell_type": "code",
   "execution_count": 277,
   "id": "9c1c54e1",
   "metadata": {},
   "outputs": [
    {
     "name": "stdout",
     "output_type": "stream",
     "text": [
      "Index(['work_year'], dtype='object')\n"
     ]
    }
   ],
   "source": [
    "from sklearn.feature_selection import RFE\n",
    "from sklearn.linear_model import LinearRegression\n",
    "\n",
    "X = data[['work_year', 'salary_in_usd', 'remote_ratio']]\n",
    "y = data['salary']\n",
    "\n",
    "estimator = LinearRegression()\n",
    "rfe = RFE(estimator, n_features_to_select=1)  # 选择最佳1個特徵\n",
    "\n",
    "X_new = rfe.fit_transform(X, y)\n",
    "\n",
    "selected_feature_indices = rfe.support_\n",
    "selected_features = X.columns[selected_feature_indices]\n",
    "\n",
    "print(selected_features)"
   ]
  },
  {
   "cell_type": "code",
   "execution_count": null,
   "id": "c64b52c1",
   "metadata": {},
   "outputs": [],
   "source": []
  }
 ],
 "metadata": {
  "kernelspec": {
   "display_name": "Python 3 (ipykernel)",
   "language": "python",
   "name": "python3"
  },
  "language_info": {
   "codemirror_mode": {
    "name": "ipython",
    "version": 3
   },
   "file_extension": ".py",
   "mimetype": "text/x-python",
   "name": "python",
   "nbconvert_exporter": "python",
   "pygments_lexer": "ipython3",
   "version": "3.9.13"
  }
 },
 "nbformat": 4,
 "nbformat_minor": 5
}
